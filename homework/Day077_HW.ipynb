{
 "cells": [
  {
   "cell_type": "markdown",
   "metadata": {},
   "source": [
    "## Work\n",
    "1. 請將 Epoch 加到 500 個，並觀察 learning curve 的走勢\n",
    "2. 請將 Optimizer 換成 SGD，並觀察 learning curve 的走勢"
   ]
  },
  {
   "cell_type": "code",
   "execution_count": 1,
   "metadata": {},
   "outputs": [
    {
     "name": "stderr",
     "output_type": "stream",
     "text": [
      "Using TensorFlow backend.\n",
      "WARNING:root:Limited tf.compat.v2.summary API due to missing TensorBoard installation.\n",
      "WARNING:root:Limited tf.compat.v2.summary API due to missing TensorBoard installation.\n",
      "WARNING:root:Limited tf.compat.v2.summary API due to missing TensorBoard installation.\n",
      "WARNING:root:Limited tf.summary API due to missing TensorBoard installation.\n"
     ]
    }
   ],
   "source": [
    "import os\n",
    "import keras\n",
    "\n",
    "# 本作業可以不需使用 GPU, 將 GPU 設定為 \"無\" (若有 GPU 且想開啟，可設為 \"0\")\n",
    "os.environ[\"CUDA_VISIBLE_DEVICES\"] = \"0\""
   ]
  },
  {
   "cell_type": "code",
   "execution_count": 2,
   "metadata": {},
   "outputs": [],
   "source": [
    "# 從 Keras 的內建功能中，取得 train 與 test 資料集\n",
    "train, test = keras.datasets.cifar10.load_data()"
   ]
  },
  {
   "cell_type": "code",
   "execution_count": 3,
   "metadata": {},
   "outputs": [],
   "source": [
    "# 將 X 與 Y 獨立放進變數\n",
    "x_train, y_train = train\n",
    "x_test, y_test = test\n",
    "# 資料前處理 - 標準化\n",
    "x_train = x_train / 255.\n",
    "x_test = x_test / 255.\n",
    "\n",
    "\n",
    "# 將目標轉為 one-hot encoding\n",
    "y_train = keras.utils.to_categorical(y_train, num_classes=10)\n",
    "y_test = keras.utils.to_categorical(y_test, num_classes=10)"
   ]
  },
  {
   "cell_type": "code",
   "execution_count": 4,
   "metadata": {},
   "outputs": [
    {
     "data": {
      "text/plain": [
       "(50000, 32, 32, 3)"
      ]
     },
     "execution_count": 4,
     "metadata": {},
     "output_type": "execute_result"
    }
   ],
   "source": [
    "x_train.shape"
   ]
  },
  {
   "cell_type": "code",
   "execution_count": 15,
   "metadata": {},
   "outputs": [],
   "source": [
    "\n",
    "from keras.models import Sequential, load_model\n",
    "from keras.datasets import cifar10\n",
    "from keras.utils import np_utils,plot_model\n",
    "from keras.layers import Dense, Dropout, Flatten, Conv2D, MaxPool2D\n",
    "\n",
    "model = Sequential()\n",
    "model.add(Conv2D(filters=64, kernel_size=3, input_shape=(32, 32, 3), activation='relu', padding='same'))\n",
    "model.add(Conv2D(filters=64, kernel_size=3, input_shape=(32, 32, 3), activation='relu', padding='same'))\n",
    "model.add(MaxPool2D(pool_size=2))\n",
    "\n",
    "model.add(Conv2D(filters=128, kernel_size=3, activation='relu', padding='same'))\n",
    "model.add(Conv2D(filters=128, kernel_size=3, activation='relu', padding='same'))\n",
    "model.add(MaxPool2D(pool_size=2))\n",
    "\n",
    "model.add(Conv2D(filters=128, kernel_size=3, activation='relu', padding='same'))\n",
    "model.add(Conv2D(filters=128, kernel_size=3, activation='relu', padding='same'))\n",
    "model.add(MaxPool2D(pool_size=2))\n",
    "\n",
    "model.add(Flatten())\n",
    "model.add(Dense(512, activation='relu'))\n",
    "model.add(Dropout(rate=0.25))\n",
    "model.add(Dense(10, activation='softmax'))"
   ]
  },
  {
   "cell_type": "code",
   "execution_count": 16,
   "metadata": {
    "scrolled": true
   },
   "outputs": [
    {
     "name": "stdout",
     "output_type": "stream",
     "text": [
      "Model: \"sequential_2\"\n",
      "_________________________________________________________________\n",
      "Layer (type)                 Output Shape              Param #   \n",
      "=================================================================\n",
      "conv2d_1 (Conv2D)            (None, 32, 32, 16)        1216      \n",
      "_________________________________________________________________\n",
      "max_pooling2d (MaxPooling2D) (None, 16, 16, 16)        0         \n",
      "_________________________________________________________________\n",
      "conv2d_2 (Conv2D)            (None, 16, 16, 36)        14436     \n",
      "_________________________________________________________________\n",
      "max_pooling2d_1 (MaxPooling2 (None, 8, 8, 36)          0         \n",
      "_________________________________________________________________\n",
      "dropout (Dropout)            (None, 8, 8, 36)          0         \n",
      "_________________________________________________________________\n",
      "flatten (Flatten)            (None, 2304)              0         \n",
      "_________________________________________________________________\n",
      "dense (Dense)                (None, 128)               295040    \n",
      "_________________________________________________________________\n",
      "dropout_1 (Dropout)          (None, 128)               0         \n",
      "_________________________________________________________________\n",
      "dense_1 (Dense)              (None, 10)                1290      \n",
      "=================================================================\n",
      "Total params: 311,982\n",
      "Trainable params: 311,982\n",
      "Non-trainable params: 0\n",
      "_________________________________________________________________\n"
     ]
    }
   ],
   "source": [
    "# 用 Keras 內建方法檢視模型各層參數量\n",
    "model2.summary()\n"
   ]
  },
  {
   "cell_type": "code",
   "execution_count": 22,
   "metadata": {},
   "outputs": [
    {
     "name": "stdout",
     "output_type": "stream",
     "text": [
      "Train on 50000 samples, validate on 10000 samples\n",
      "Epoch 1/20\n",
      "50000/50000 [==============================] - 522s 10ms/step - loss: 1.2833 - accuracy: 0.5373 - val_loss: 0.9835 - val_accuracy: 0.6475\n",
      "Epoch 2/20\n",
      "50000/50000 [==============================] - 528s 11ms/step - loss: 0.8719 - accuracy: 0.6950 - val_loss: 0.7935 - val_accuracy: 0.7222\n",
      "Epoch 3/20\n",
      "50000/50000 [==============================] - 517s 10ms/step - loss: 0.7065 - accuracy: 0.7529 - val_loss: 0.7572 - val_accuracy: 0.7405\n",
      "Epoch 4/20\n",
      "50000/50000 [==============================] - 509s 10ms/step - loss: 0.5861 - accuracy: 0.7948 - val_loss: 0.7133 - val_accuracy: 0.7583\n",
      "Epoch 5/20\n",
      "50000/50000 [==============================] - 504s 10ms/step - loss: 0.4915 - accuracy: 0.8275 - val_loss: 0.7068 - val_accuracy: 0.7746\n",
      "Epoch 6/20\n",
      "50000/50000 [==============================] - 504s 10ms/step - loss: 0.4142 - accuracy: 0.8536 - val_loss: 0.7314 - val_accuracy: 0.7752\n",
      "Epoch 7/20\n",
      "50000/50000 [==============================] - 500s 10ms/step - loss: 0.3557 - accuracy: 0.8737 - val_loss: 0.7431 - val_accuracy: 0.7741\n",
      "Epoch 8/20\n",
      "50000/50000 [==============================] - 504s 10ms/step - loss: 0.3233 - accuracy: 0.8860 - val_loss: 0.7691 - val_accuracy: 0.7776\n",
      "Epoch 9/20\n",
      "50000/50000 [==============================] - 512s 10ms/step - loss: 0.2792 - accuracy: 0.9023 - val_loss: 0.8359 - val_accuracy: 0.7731\n",
      "Epoch 10/20\n",
      "50000/50000 [==============================] - 517s 10ms/step - loss: 0.2536 - accuracy: 0.9109 - val_loss: 0.9151 - val_accuracy: 0.7675\n",
      "Epoch 11/20\n",
      "50000/50000 [==============================] - 516s 10ms/step - loss: 0.2434 - accuracy: 0.9174 - val_loss: 0.9691 - val_accuracy: 0.7589\n",
      "Epoch 12/20\n",
      "50000/50000 [==============================] - 512s 10ms/step - loss: 0.2286 - accuracy: 0.9220 - val_loss: 0.9345 - val_accuracy: 0.7736\n",
      "Epoch 13/20\n",
      "50000/50000 [==============================] - 489s 10ms/step - loss: 0.2258 - accuracy: 0.9231 - val_loss: 0.9695 - val_accuracy: 0.7825\n",
      "Epoch 14/20\n",
      "50000/50000 [==============================] - 485s 10ms/step - loss: 0.2119 - accuracy: 0.9280 - val_loss: 1.0221 - val_accuracy: 0.7773\n",
      "Epoch 15/20\n",
      "50000/50000 [==============================] - 479s 10ms/step - loss: 0.2027 - accuracy: 0.9321 - val_loss: 0.9616 - val_accuracy: 0.7804\n",
      "Epoch 16/20\n",
      "50000/50000 [==============================] - 484s 10ms/step - loss: 0.2075 - accuracy: 0.9304 - val_loss: 1.0278 - val_accuracy: 0.7679\n",
      "Epoch 17/20\n",
      "50000/50000 [==============================] - 488s 10ms/step - loss: 0.1929 - accuracy: 0.9361 - val_loss: 1.1359 - val_accuracy: 0.7751\n",
      "Epoch 18/20\n",
      "50000/50000 [==============================] - 484s 10ms/step - loss: 0.1885 - accuracy: 0.9366 - val_loss: 1.0307 - val_accuracy: 0.7865\n",
      "Epoch 19/20\n",
      "50000/50000 [==============================] - 484s 10ms/step - loss: 0.1837 - accuracy: 0.9399 - val_loss: 1.2272 - val_accuracy: 0.7623\n",
      "Epoch 20/20\n",
      "50000/50000 [==============================] - 482s 10ms/step - loss: 0.1811 - accuracy: 0.9407 - val_loss: 1.0858 - val_accuracy: 0.7740\n"
     ]
    },
    {
     "data": {
      "text/plain": [
       "<keras.callbacks.callbacks.History at 0x24c78ae3e10>"
      ]
     },
     "execution_count": 22,
     "metadata": {},
     "output_type": "execute_result"
    }
   ],
   "source": [
    "model.compile(loss='categorical_crossentropy', optimizer='adam', metrics=['accuracy'])\n",
    "\n",
    "model.fit(x_train, y_train, \n",
    "          epochs=20, \n",
    "          batch_size=32, \n",
    "          validation_data=(x_test, y_test), \n",
    "          shuffle=True)"
   ]
  },
  {
   "cell_type": "code",
   "execution_count": 27,
   "metadata": {},
   "outputs": [
    {
     "data": {
      "image/png": "[encoded data removed]",
      "text/plain": [
       "<Figure size 432x288 with 1 Axes>"
      ]
     },
     "metadata": {},
     "output_type": "display_data"
    },
    {
     "data": {
      "image/png": "[encoded data removed]",
      "text/plain": [
       "<Figure size 432x288 with 1 Axes>"
      ]
     },
     "metadata": {},
     "output_type": "display_data"
    }
   ],
   "source": [
    "import matplotlib.pyplot as plt\n",
    "# 以視覺畫方式檢視訓練過程\n",
    "\n",
    "train_loss = model.history.history[\"loss\"]\n",
    "valid_loss = model.history.history[\"val_loss\"]\n",
    "\n",
    "train_acc = model.history.history[\"accuracy\"]\n",
    "valid_acc = model.history.history[\"val_accuracy\"]\n",
    "\n",
    "plt.plot(range(len(train_loss)), train_loss, label=\"train loss\")\n",
    "plt.plot(range(len(valid_loss)), valid_loss, label=\"valid loss\")\n",
    "plt.legend()\n",
    "plt.title(\"Loss\")\n",
    "plt.show()\n",
    "\n",
    "plt.plot(range(len(train_acc)), train_acc, label=\"train accuracy\")\n",
    "plt.plot(range(len(valid_acc)), valid_acc, label=\"valid accuracy\")\n",
    "plt.legend()\n",
    "plt.title(\"Accuracy\")\n",
    "plt.show()"
   ]
  },
  {
   "cell_type": "code",
   "execution_count": null,
   "metadata": {},
   "outputs": [],
   "source": []
  }
 ],
 "metadata": {
  "kernelspec": {
   "display_name": "Python 3",
   "language": "python",
   "name": "python3"
  },
  "language_info": {
   "codemirror_mode": {
    "name": "ipython",
    "version": 3
   },
   "file_extension": ".py",
   "mimetype": "text/x-python",
   "name": "python",
   "nbconvert_exporter": "python",
   "pygments_lexer": "ipython3",
   "version": "3.5.5"
  }
 },
 "nbformat": 4,
 "nbformat_minor": 2
}
